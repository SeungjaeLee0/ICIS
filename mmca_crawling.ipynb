{
 "cells": [
  {
   "cell_type": "code",
   "execution_count": 1,
   "metadata": {},
   "outputs": [],
   "source": [
    "import requests\n",
    "from urllib import parse\n",
    "import urllib.request \n",
    "from bs4 import BeautifulSoup\n",
    "import pandas as pd\n",
    "from pandas import DataFrame as df"
   ]
  },
  {
   "cell_type": "markdown",
   "metadata": {},
   "source": [
    "https://www.mmca.go.kr/exhibitions/progressList.do\n",
    "\n",
    "\n",
    "    https://www.mmca.go.kr/exhibitions/exhFilmList.do\n",
    "    \n",
    "    \n",
    "        https://www.mmca.go.kr/exhibitions/dawonArtList.do\n",
    "        \n",
    "        \n",
    "            https://www.mmca.go.kr/pr/cultureList.do\n",
    "            "
   ]
  },
  {
   "cell_type": "code",
   "execution_count": 2,
   "metadata": {},
   "outputs": [],
   "source": [
    "headers = {\"user-agent\" : \"Mozilla/5.0 (Macintosh; Intel Mac OS X 10_13_5) AppleWebKit/537.36 (KHTML, like Gecko) Chrome/67.0.3396.99 Safari/537.36\"}"
   ]
  },
  {
   "cell_type": "code",
   "execution_count": null,
   "metadata": {},
   "outputs": [],
   "source": [
    "linklist = []\n",
    "for i in range(50):\n",
    "    url = 'https://www.pierre-auguste-renoir.org/the-complete-works.html?'\n",
    "    params = {\"pageNo\":i}\n",
    "    html = requests.get(url, params=params, headers=headers)\n",
    "    dom = BeautifulSoup(html.text, \"html.parser\")\n",
    "    links = dom.select(\"div.tile > a > img\") \n",
    "    linklist.append([link[\"src\"] for link in links if link.has_attr(\"src\")])"
   ]
  }
 ],
 "metadata": {
  "kernelspec": {
   "display_name": "Python 3",
   "language": "python",
   "name": "python3"
  },
  "language_info": {
   "codemirror_mode": {
    "name": "ipython",
    "version": 3
   },
   "file_extension": ".py",
   "mimetype": "text/x-python",
   "name": "python",
   "nbconvert_exporter": "python",
   "pygments_lexer": "ipython3",
   "version": "3.6.5"
  }
 },
 "nbformat": 4,
 "nbformat_minor": 2
}
