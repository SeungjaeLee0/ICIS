{
 "cells": [
  {
   "cell_type": "code",
   "execution_count": 1,
   "metadata": {},
   "outputs": [],
   "source": [
    "from selenium import webdriver\n",
    "from selenium.common.exceptions import NoSuchElementException\n",
    "from bs4 import BeautifulSoup as bs\n",
    "import urllib\n",
    "import glob\n",
    "import base64\n",
    "driver = webdriver.Chrome()\n",
    "driver.get('https://www.mmca.go.kr/child/')"
   ]
  },
  {
   "cell_type": "code",
   "execution_count": 2,
   "metadata": {},
   "outputs": [],
   "source": [
    "html = bs(driver.page_source,\"html\")\n",
    "selected_html = html.select(\".info\") \n",
    "titles = []\n",
    "schedules = []\n",
    "time = []\n",
    "images = []\n",
    "baselist= []"
   ]
  },
  {
   "cell_type": "code",
   "execution_count": 3,
   "metadata": {},
   "outputs": [],
   "source": [
    "for i in html.select(\".info span.info_tit\"):\n",
    "    titles.append(i.get_text())\n",
    "for l in html.select(\".info span.date\"):\n",
    "    schedules.append(l.get_text())\n",
    "for m in html.select(\".info span.time\"):\n",
    "    time.append(m.get_text())\n",
    "    \n",
    "before_images = html.select('div.thumb img')\n",
    "homepageUrl = 'https://www.mmca.go.kr'\n",
    "for p in before_images:\n",
    "    rawUrl = str(p.get_attribute_list('src'))\n",
    "    rawUrl = rawUrl.replace(\"['\",\"\")\n",
    "    rawUrl = rawUrl.replace(\"']\",\"\")\n",
    "    realUrl = homepageUrl+rawUrl\n",
    "    images.append(realUrl)\n",
    "    \n",
    "for q in range(len(images)):\n",
    "    urllib.request.urlretrieve(images[q],'mmca'+str(q)+'.jpg')\n",
    "\n",
    "for r in range(len(images)):\n",
    "    with open('mmca'+str(r)+'.jpg','rb') as f:\n",
    "        baselist.append(base64.b64encode(f.read()))"
   ]
  },
  {
   "cell_type": "code",
   "execution_count": 6,
   "metadata": {},
   "outputs": [],
   "source": [
    "links = []"
   ]
  },
  {
   "cell_type": "code",
   "execution_count": 7,
   "metadata": {},
   "outputs": [],
   "source": [
    "links.append('https://www.mmca.go.kr/learn/learnDetail.do?emBigCd=06&emSmlCd=05&edId=201803140001414')"
   ]
  },
  {
   "cell_type": "code",
   "execution_count": 8,
   "metadata": {},
   "outputs": [],
   "source": [
    "links.append('https://www.mmca.go.kr/learn/learnDetail.do?emBigCd=06&emSmlCd=05&edId=201803140001413')"
   ]
  },
  {
   "cell_type": "code",
   "execution_count": 9,
   "metadata": {},
   "outputs": [],
   "source": [
    "links.append('https://www.mmca.go.kr/learn/learnDetail.do?emBigCd=06&emSmlCd=05&edId=201803140001412')"
   ]
  },
  {
   "cell_type": "code",
   "execution_count": 10,
   "metadata": {},
   "outputs": [],
   "source": [
    "links.append('https://www.mmca.go.kr/learn/learnDetail.do?emBigCd=06&emSmlCd=05&edId=201803140001411')"
   ]
  },
  {
   "cell_type": "code",
   "execution_count": 11,
   "metadata": {},
   "outputs": [],
   "source": [
    "links.append('https://www.mmca.go.kr/learn/learnDetail.do?emBigCd=06&emSmlCd=01&edId=201808220001571')"
   ]
  },
  {
   "cell_type": "code",
   "execution_count": 12,
   "metadata": {},
   "outputs": [],
   "source": [
    "links.append('https://www.mmca.go.kr/learn/learnDetail.do?emBigCd=06&emSmlCd=01&edId=201808220001572')"
   ]
  },
  {
   "cell_type": "code",
   "execution_count": 13,
   "metadata": {},
   "outputs": [],
   "source": [
    "links.append('https://www.mmca.go.kr/learn/learnDetail.do?emBigCd=06&emSmlCd=02&edId=201808220001567')"
   ]
  },
  {
   "cell_type": "code",
   "execution_count": 14,
   "metadata": {},
   "outputs": [],
   "source": [
    "links.append('https://www.mmca.go.kr/learn/learnDetail.do?emBigCd=06&emSmlCd=02&edId=201808220001568')"
   ]
  },
  {
   "cell_type": "code",
   "execution_count": 15,
   "metadata": {},
   "outputs": [],
   "source": [
    "links.append('https://www.mmca.go.kr/learn/learnDetail.do?emBigCd=06&emSmlCd=02&edId=201808220001570')"
   ]
  },
  {
   "cell_type": "code",
   "execution_count": 16,
   "metadata": {},
   "outputs": [],
   "source": [
    "links.append('https://www.mmca.go.kr/learn/learnDetail.do?emBigCd=06&emSmlCd=02&edId=201808220001569')"
   ]
  },
  {
   "cell_type": "code",
   "execution_count": 17,
   "metadata": {},
   "outputs": [
    {
     "data": {
      "text/plain": [
       "(['[상시] 그리고-그리고',\n",
       "  '[상시] 상상의 방',\n",
       "  '[상시] 손잡이의 여행',\n",
       "  '[상시] 사물의 변신',\n",
       "  '[유아단체] 속닥속닥, 작품 이야기',\n",
       "  '[초등단체] 속닥속닥, 작품 이야기',\n",
       "  '[가족] 아트카페 ‘일상’ (6~9세)',\n",
       "  '[어린이] 아트카페 ‘일상’ (10~13세)',\n",
       "  '[가족] 작품 앞 드로잉 (6~9세)',\n",
       "  '[가족] 작품 앞 드로잉 (10~13세)'],\n",
       " ['2018.03.22~2018.12.31',\n",
       "  '2018.03.22~2018.12.31',\n",
       "  '2018.03.22~2018.12.31',\n",
       "  '2018.03.22~2018.12.31',\n",
       "  '2018.09.12~2018.12.21',\n",
       "  '2018.09.11~2018.12.20',\n",
       "  '2018.09.01~2018.09.29',\n",
       "  '2018.09.02~2018.09.30',\n",
       "  '2018.09.02~2018.09.30',\n",
       "  '2018.09.01~2018.09.29'],\n",
       " ['10:00~17:00',\n",
       "  '10:00~17:00',\n",
       "  '10:00~17:00',\n",
       "  '10:00~17:00',\n",
       "  '수, 금 / 10:30~11:30 (60분)',\n",
       "  '화, 목/ 10:30~12:00 (90분)',\n",
       "  '토/ 10:30~12:00 (90분)',\n",
       "  '일/ 13:30~15:00 (90분)',\n",
       "  '일/ 10:30~12:00 (90분)',\n",
       "  '토/ 13:30~15:00 (90분)'],\n",
       " ['https://www.mmca.go.kr/upload/education/2018/03/201803150320092311299_thumb.jpg',\n",
       "  'https://www.mmca.go.kr/upload/education/2018/03/2018031503150644315118_thumb.jpg',\n",
       "  'https://www.mmca.go.kr/upload/education/2018/03/2018031503141362211050_thumb.jpg',\n",
       "  'https://www.mmca.go.kr/upload/education/2018/03/2018031503134654412043_thumb.jpg',\n",
       "  'https://www.mmca.go.kr/upload/education/2018/08/2018082409351664117872_thumb.jpg',\n",
       "  'https://www.mmca.go.kr/upload/education/2018/08/2018082409365970615798_thumb.jpg',\n",
       "  'https://www.mmca.go.kr/upload/education/2018/08/2018082409514857214814_thumb.jpg',\n",
       "  'https://www.mmca.go.kr/upload/education/2018/08/2018082410015988318500_thumb.jpg',\n",
       "  'https://www.mmca.go.kr/upload/education/2018/08/2018082409590230111210_thumb.jpg',\n",
       "  'https://www.mmca.go.kr/upload/education/2018/08/2018082409564234517042_thumb.jpg'],\n",
       " ['https://www.mmca.go.kr/learn/learnDetail.do?emBigCd=06&emSmlCd=05&edId=201803140001414',\n",
       "  'https://www.mmca.go.kr/learn/learnDetail.do?emBigCd=06&emSmlCd=05&edId=201803140001413',\n",
       "  'https://www.mmca.go.kr/learn/learnDetail.do?emBigCd=06&emSmlCd=05&edId=201803140001412',\n",
       "  'https://www.mmca.go.kr/learn/learnDetail.do?emBigCd=06&emSmlCd=05&edId=201803140001411',\n",
       "  'https://www.mmca.go.kr/learn/learnDetail.do?emBigCd=06&emSmlCd=01&edId=201808220001571',\n",
       "  'https://www.mmca.go.kr/learn/learnDetail.do?emBigCd=06&emSmlCd=01&edId=201808220001572',\n",
       "  'https://www.mmca.go.kr/learn/learnDetail.do?emBigCd=06&emSmlCd=02&edId=201808220001567',\n",
       "  'https://www.mmca.go.kr/learn/learnDetail.do?emBigCd=06&emSmlCd=02&edId=201808220001568',\n",
       "  'https://www.mmca.go.kr/learn/learnDetail.do?emBigCd=06&emSmlCd=02&edId=201808220001570',\n",
       "  'https://www.mmca.go.kr/learn/learnDetail.do?emBigCd=06&emSmlCd=02&edId=201808220001569'])"
      ]
     },
     "execution_count": 17,
     "metadata": {},
     "output_type": "execute_result"
    }
   ],
   "source": [
    "titles, schedules, time, images, links"
   ]
  },
  {
   "cell_type": "code",
   "execution_count": 5,
   "metadata": {},
   "outputs": [],
   "source": [
    "import pandas as pd"
   ]
  },
  {
   "cell_type": "code",
   "execution_count": 18,
   "metadata": {},
   "outputs": [],
   "source": [
    "df = pd.DataFrame(columns=['title','summary','schedule','place','cost','image','link'])"
   ]
  },
  {
   "cell_type": "code",
   "execution_count": 25,
   "metadata": {},
   "outputs": [],
   "source": [
    "for i in range(len(titles)):\n",
    "    df.loc[i,'title'] = titles[i]\n",
    "# for i in range(len(titles)):\n",
    "#     df.loc[i,'summary'] = summaries[i]\n",
    "for i in range(len(titles)):\n",
    "    df.loc[i,'schedule'] = schedules[i]\n",
    "for i in range(len(titles)):\n",
    "    df.loc[i,'place'] = '국립현대미술관'\n",
    "# for i in range(len(titles)):\n",
    "#     df.loc[i,'cost'] = costs[i]\n",
    "for i in range(len(titles)):\n",
    "    df.loc[i,'image'] = images[i]\n",
    "for i in range(len(titles)):\n",
    "    df.loc[i,'link'] = links[i]"
   ]
  },
  {
   "cell_type": "code",
   "execution_count": 28,
   "metadata": {},
   "outputs": [],
   "source": [
    "df.to_csv('mcaa.csv')"
   ]
  },
  {
   "cell_type": "code",
   "execution_count": null,
   "metadata": {},
   "outputs": [],
   "source": [
    "df = pd.DataFrame(columns=['title','schedule','time','image'])"
   ]
  }
 ],
 "metadata": {
  "kernelspec": {
   "display_name": "Python 3",
   "language": "python",
   "name": "python3"
  },
  "language_info": {
   "codemirror_mode": {
    "name": "ipython",
    "version": 3
   },
   "file_extension": ".py",
   "mimetype": "text/x-python",
   "name": "python",
   "nbconvert_exporter": "python",
   "pygments_lexer": "ipython3",
   "version": "3.6.6"
  }
 },
 "nbformat": 4,
 "nbformat_minor": 2
}
